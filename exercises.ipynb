{
 "cells": [
  {
   "cell_type": "markdown",
   "metadata": {
    "deletable": false,
    "editable": false
   },
   "source": [
    "# Data Visualization with Modern Data Science\n",
    "\n",
    "> Assignment 3\n",
    "\n",
    "Yao-Jen Kuo <yaojenkuo@ntu.edu.tw> from [DATAINPOINT](https://www.datainpoint.com)"
   ]
  },
  {
   "cell_type": "markdown",
   "metadata": {
    "deletable": false,
    "editable": false
   },
   "source": [
    "## Instructions\n",
    "\n",
    "- The assignment will be disconnected if idling over 10 minutes, we can reactivate a new session by clicking the assignment link again.\n",
    "- If you accidentally delete some of the cells, just re-click the assignment link again for a whole new session.\n",
    "- Write down your solution between comments `-- BEGIN SOLUTION` and `-- END SOLUTION`.\n",
    "- It is highly recommended that you test your solution in SQLiteStudio then paste into Jupyter Notebook.\n",
    "- Running tests to see if your solutions are right:\n",
    "    - File -> Save Notebook to save `exercises.ipynb`.\n",
    "    - File -> New -> Terminal to open a Terminal.\n",
    "    - Use command `python test_runner.py` to run test.\n",
    "- When you are ready to submit, click File -> Export Notebook As -> Executable Script.\n",
    "- Rename the exported Python script with your student ID(e.g. `b01234567.py`) and upload to the Assignment session on NTU COOL."
   ]
  },
  {
   "cell_type": "markdown",
   "metadata": {},
   "source": [
    "![](nbadb-erd.png)"
   ]
  },
  {
   "cell_type": "markdown",
   "metadata": {},
   "source": [
    "## 01. Write a SQL statement that is able to retrieve the table list given database `nba.db`.\n",
    "\n",
    "- Expected inputs：a SQL statement.\n",
    "- Expected outputs：a (3, 2) result.\n",
    "\n",
    "Hint: querying metadata table `sqlite_master`.\n",
    "\n",
    "```\n",
    "    type              name\n",
    "0  table  career_summaries\n",
    "1  table           players\n",
    "2  table             teams\n",
    "```"
   ]
  },
  {
   "cell_type": "code",
   "execution_count": null,
   "metadata": {},
   "outputs": [],
   "source": [
    "retrieve_table_list_from_nbadb =\\\n",
    "\"\"\"\n",
    "-- BEGIN SOLUTION\n",
    "\n",
    "-- END SOLUTION\n",
    "\"\"\""
   ]
  },
  {
   "cell_type": "markdown",
   "metadata": {},
   "source": [
    "## 02. Write a SQL statement that is able to retrieve the table information given database `nba.db`.\n",
    "\n",
    "- Expected inputs：a SQL statement.\n",
    "- Expected outputs：a (3, 3) result.\n",
    "\n",
    "Hint: number of columns can be queried through `pragma_table_info()`.\n",
    "\n",
    "```\n",
    "               name  number_of_rows  number_of_columns\n",
    "0  career_summaries             502                 31\n",
    "1           players             502                 18\n",
    "2             teams              30                 12\n",
    "```"
   ]
  },
  {
   "cell_type": "code",
   "execution_count": null,
   "metadata": {},
   "outputs": [],
   "source": [
    "retrieve_table_info_from_nbadb =\\\n",
    "\"\"\"\n",
    "-- BEGIN SOLUTION\n",
    "\n",
    "-- END SOLUTION\n",
    "\"\"\""
   ]
  },
  {
   "cell_type": "markdown",
   "metadata": {},
   "source": [
    "## 03. Write a SQL statement that is able to count the number of players from each country in `players`.\n",
    "\n",
    "- Expected inputs：a SQL statement.\n",
    "- Expected outputs：a (42, 2) result.\n",
    "\n",
    "```\n",
    "                   country  number_of_players\n",
    "0                      USA                384\n",
    "1                   Canada                 20\n",
    "2                   France                 10\n",
    "3                  Germany                  8\n",
    "4                Australia                  7\n",
    "5                   Serbia                  5\n",
    "6                    Spain                  5\n",
    "7                  Nigeria                  4\n",
    "8                   Turkey                  4\n",
    "9                  Bahamas                  3\n",
    "10                 Croatia                  3\n",
    "11                   Japan                  3\n",
    "12               Lithuania                  3\n",
    "13                Slovenia                  3\n",
    "14               Argentina                  2\n",
    "15                  Brazil                  2\n",
    "16                Cameroon                  2\n",
    "17          Czech Republic                  2\n",
    "18                     DRC                  2\n",
    "19      Dominican Republic                  2\n",
    "20                 Georgia                  2\n",
    "21                  Greece                  2\n",
    "22                  Latvia                  2\n",
    "23              Montenegro                  2\n",
    "24                 Ukraine                  2\n",
    "25          United Kingdom                  2\n",
    "26                  Angola                  1\n",
    "27                 Austria                  1\n",
    "28  Bosnia and Herzegovina                  1\n",
    "29                 Denmark                  1\n",
    "30                 Finland                  1\n",
    "31                  Israel                  1\n",
    "32                   Italy                  1\n",
    "33                 Jamaica                  1\n",
    "34             New Zealand                  1\n",
    "35                Portugal                  1\n",
    "36   Republic of the Congo                  1\n",
    "37             Saint Lucia                  1\n",
    "38                 Senegal                  1\n",
    "39             South Sudan                  1\n",
    "40                   Sudan                  1\n",
    "41             Switzerland                  1\n",
    "```"
   ]
  },
  {
   "cell_type": "code",
   "execution_count": null,
   "metadata": {},
   "outputs": [],
   "source": [
    "count_players_from_each_country =\\\n",
    "\"\"\"\n",
    "-- BEGIN SOLUTION\n",
    "\n",
    "-- END SOLUTION\n",
    "\"\"\""
   ]
  },
  {
   "cell_type": "markdown",
   "metadata": {},
   "source": [
    "## 04. Write a SQL statement that is able to count the number of players from USA or not in `players`.\n",
    "\n",
    "- Expected inputs：a SQL statement.\n",
    "- Expected outputs：a (2, 2) result.\n",
    "\n",
    "```\n",
    "  from_usa_or_not  number_of_players\n",
    "0        From USA                384\n",
    "1    Not from USA                118\n",
    "```"
   ]
  },
  {
   "cell_type": "code",
   "execution_count": null,
   "metadata": {},
   "outputs": [],
   "source": [
    "count_players_from_usa_or_not =\\\n",
    "\"\"\"\n",
    "-- BEGIN SOLUTION\n",
    "\n",
    "-- END SOLUTION\n",
    "\"\"\""
   ]
  },
  {
   "cell_type": "markdown",
   "metadata": {},
   "source": [
    "## 05. Write a SQL statement that is able to count the number of players for each position in `players`.\n",
    "\n",
    "- Expected inputs：a SQL statement.\n",
    "- Expected outputs：a (7, 2) result.\n",
    "\n",
    "```\n",
    "   pos  number_of_players\n",
    "0    G                195\n",
    "1    F                140\n",
    "2  G-F                 47\n",
    "3  F-C                 37\n",
    "4    C                 37\n",
    "5  C-F                 26\n",
    "6  F-G                 20\n",
    "```"
   ]
  },
  {
   "cell_type": "code",
   "execution_count": null,
   "metadata": {},
   "outputs": [],
   "source": [
    "count_players_for_each_position =\\\n",
    "\"\"\"\n",
    "-- BEGIN SOLUTION\n",
    "\n",
    "-- END SOLUTION\n",
    "\"\"\""
   ]
  },
  {
   "cell_type": "markdown",
   "metadata": {},
   "source": [
    "## 06. Write a SQL statement that is able to re-categorize the number of players for each position according the first letter of `pos` in `players`.\n",
    "\n",
    "- Expected inputs：a SQL statement.\n",
    "- Expected outputs：a (3, 2) result.\n",
    "\n",
    "```\n",
    "  new_pos  number_of_players\n",
    "0       G                242\n",
    "1       F                197\n",
    "2       C                 63\n",
    "```"
   ]
  },
  {
   "cell_type": "code",
   "execution_count": null,
   "metadata": {},
   "outputs": [],
   "source": [
    "count_players_for_each_new_position =\\\n",
    "\"\"\"\n",
    "-- BEGIN SOLUTION\n",
    "\n",
    "-- END SOLUTION\n",
    "\"\"\""
   ]
  },
  {
   "cell_type": "markdown",
   "metadata": {},
   "source": [
    "## 07. Write a SQL statement that is able to calculate the proportion for each position in `players`.\n",
    "\n",
    "- Expected inputs：a SQL statement.\n",
    "- Expected outputs：a (7, 2) result.\n",
    "\n",
    "```\n",
    "   pos proportion\n",
    "0    C      7.37%\n",
    "1  C-F      5.18%\n",
    "2    F     27.89%\n",
    "3  F-C      7.37%\n",
    "4  F-G      3.98%\n",
    "5    G     38.84%\n",
    "6  G-F      9.36%\n",
    "```"
   ]
  },
  {
   "cell_type": "code",
   "execution_count": null,
   "metadata": {},
   "outputs": [],
   "source": [
    "calculate_proportion_for_each_position =\\\n",
    "\"\"\"\n",
    "-- BEGIN SOLUTION\n",
    "\n",
    "-- END SOLUTION\n",
    "\"\"\""
   ]
  },
  {
   "cell_type": "markdown",
   "metadata": {},
   "source": [
    "## 08. Write a SQL statement that is able to find the roster of Phoenix Suns in `teams` and `players`.\n",
    "\n",
    "- Expected inputs：a SQL statement.\n",
    "- Expected outputs：a (17, 4) result.\n",
    "\n",
    "```\n",
    "        teamName  pos firstName   lastName\n",
    "0   Phoenix Suns    C   Bismack    Biyombo\n",
    "1   Phoenix Suns    C   Deandre      Ayton\n",
    "2   Phoenix Suns  C-F    JaVale      McGee\n",
    "3   Phoenix Suns    F       Jae    Crowder\n",
    "4   Phoenix Suns    F    Torrey      Craig\n",
    "5   Phoenix Suns    F     Mikal    Bridges\n",
    "6   Phoenix Suns    F   Cameron    Johnson\n",
    "7   Phoenix Suns    F       Ish  Wainright\n",
    "8   Phoenix Suns  F-C     Dario      Saric\n",
    "9   Phoenix Suns  F-C     Frank   Kaminsky\n",
    "10  Phoenix Suns    G     Chris       Paul\n",
    "11  Phoenix Suns    G    Elfrid     Payton\n",
    "12  Phoenix Suns    G     Devin     Booker\n",
    "13  Phoenix Suns    G   Cameron      Payne\n",
    "14  Phoenix Suns    G     Aaron    Holiday\n",
    "15  Phoenix Suns    G    Landry     Shamet\n",
    "16  Phoenix Suns    G   Gabriel   Lundberg\n",
    "```"
   ]
  },
  {
   "cell_type": "code",
   "execution_count": null,
   "metadata": {},
   "outputs": [],
   "source": [
    "find_roster_of_phx_suns =\\\n",
    "\"\"\"\n",
    "-- BEGIN SOLUTION\n",
    "\n",
    "-- END SOLUTION\n",
    "\"\"\""
   ]
  },
  {
   "cell_type": "markdown",
   "metadata": {},
   "source": [
    "## 09. Write a SQL statement that is able to find the top 10 scorers with the most points in `players` and `career_summaries`.\n",
    "\n",
    "- Expected inputs：a SQL statement.\n",
    "- Expected outputs：a (10, 3) result.\n",
    "\n",
    "```\n",
    "  firstName   lastName  points\n",
    "0    LeBron      James   36985\n",
    "1   Carmelo    Anthony   28223\n",
    "2     Kevin     Durant   25213\n",
    "3     James     Harden   23281\n",
    "4   Russell  Westbrook   23140\n",
    "5     Chris       Paul   20844\n",
    "6  LaMarcus   Aldridge   20558\n",
    "7   Stephen      Curry   20064\n",
    "8     DeMar    DeRozan   19610\n",
    "9    Dwight     Howard   19377\n",
    "```"
   ]
  },
  {
   "cell_type": "code",
   "execution_count": null,
   "metadata": {},
   "outputs": [],
   "source": [
    "find_the_top_ten_scorers =\\\n",
    "\"\"\"\n",
    "-- BEGIN SOLUTION\n",
    "\n",
    "-- END SOLUTION\n",
    "\"\"\""
   ]
  },
  {
   "cell_type": "markdown",
   "metadata": {},
   "source": [
    "## 10. Write a SQL statement that is able to find the players with the most `ppg`, `rpg`, `apg`, `bpg`, and `spg` in `career_summaries` and `players`.\n",
    "\n",
    "- Expected inputs：a SQL statement.\n",
    "- Expected outputs：a (5, 4) result.\n",
    "\n",
    "```\n",
    "  firstName  lastName  key  value\n",
    "0     Andre  Drummond  rpg   13.3\n",
    "1   Anthony     Davis  bpg    2.3\n",
    "2     Chris      Paul  apg    9.5\n",
    "3     Chris      Paul  spg    2.1\n",
    "4    LeBron     James  ppg   27.1\n",
    "```"
   ]
  },
  {
   "cell_type": "code",
   "execution_count": null,
   "metadata": {},
   "outputs": [],
   "source": [
    "find_the_top_players =\\\n",
    "\"\"\"\n",
    "-- BEGIN SOLUTION\n",
    "\n",
    "-- END SOLUTION\n",
    "\"\"\""
   ]
  },
  {
   "cell_type": "markdown",
   "metadata": {
    "deletable": false,
    "editable": false
   },
   "source": [
    "## End of assignment, ignore the following cells."
   ]
  },
  {
   "cell_type": "code",
   "execution_count": null,
   "metadata": {
    "deletable": false,
    "editable": false
   },
   "outputs": [],
   "source": [
    "import pandas as pd\n",
    "\n",
    "def function_retrieve_table_list_from_nbadb(con):\n",
    "    return pd.read_sql(retrieve_table_list_from_nbadb, con)\n",
    "def function_retrieve_table_info_from_nbadb(con):\n",
    "    return pd.read_sql(retrieve_table_info_from_nbadb, con)\n",
    "def function_count_players_from_each_country(con):\n",
    "    return pd.read_sql(count_players_from_each_country, con)\n",
    "def function_count_players_from_usa_or_not(con):\n",
    "    return pd.read_sql(count_players_from_usa_or_not, con)\n",
    "def function_count_players_for_each_position(con):\n",
    "    return pd.read_sql(count_players_for_each_position, con)\n",
    "def function_count_players_for_each_new_position(con):\n",
    "    return pd.read_sql(count_players_for_each_new_position, con)\n",
    "def function_calculate_proportion_for_each_position(con):\n",
    "    return pd.read_sql(calculate_proportion_for_each_position, con)\n",
    "def function_find_roster_of_phx_suns(con):\n",
    "    return pd.read_sql(find_roster_of_phx_suns, con)\n",
    "def function_find_the_top_ten_scorers(con):\n",
    "    return pd.read_sql(find_the_top_ten_scorers, con)\n",
    "def function_find_the_top_players(con):\n",
    "    return pd.read_sql(find_the_top_players, con)"
   ]
  }
 ],
 "metadata": {
  "kernelspec": {
   "display_name": "Python 3.9",
   "language": "python",
   "name": "python39"
  },
  "language_info": {
   "codemirror_mode": {
    "name": "ipython",
    "version": 3
   },
   "file_extension": ".py",
   "mimetype": "text/x-python",
   "name": "python",
   "nbconvert_exporter": "python",
   "pygments_lexer": "ipython3",
   "version": "3.9.7"
  }
 },
 "nbformat": 4,
 "nbformat_minor": 4
}
