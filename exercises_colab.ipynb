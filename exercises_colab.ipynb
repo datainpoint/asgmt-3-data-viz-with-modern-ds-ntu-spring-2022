{
 "cells": [
  {
   "cell_type": "markdown",
   "metadata": {
    "deletable": false,
    "editable": false
   },
   "source": [
    "# Data Visualization with Modern Data Science\n",
    "\n",
    "> Assignment 3\n",
    "\n",
    "Yao-Jen Kuo <yaojenkuo@ntu.edu.tw> from [DATAINPOINT](https://www.datainpoint.com)"
   ]
  },
  {
   "cell_type": "markdown",
   "metadata": {
    "deletable": false,
    "editable": false
   },
   "source": [
    "## Instructions\n",
    "\n",
    "- File -> Save a copy in Drive.\n",
    "- The assignment will be disconnected if idling over 10 minutes, we can click Connect button on the upper-right corner to reactivate.\n",
    "- If you accidentally delete some of the cells, just re-click the assignment link again for the original notebook.\n",
    "- Write down your solution between comments `-- BEGIN SOLUTION` and `-- END SOLUTION`.\n",
    "- It is highly recommended that you test your solution in SQLiteStudio then paste into Google Colab.\n",
    "- Running tests to see if your solutions are right:\n",
    "    - Click Connect button on the upper-right corner.\n",
    "    - Runtime -> Restart and run all -> Yes.\n",
    "    - Scroll down to the bottom of `exercises_colab.ipynb` to see the test result.\n",
    "- When you are ready to submit, click File -> Download .py.\n",
    "- Rename the exported Python script with your student ID(e.g. `b01234567.py`) and upload to the Assignment session on NTU COOL."
   ]
  },
  {
   "cell_type": "markdown",
   "metadata": {
    "deletable": false,
    "editable": false
   },
   "source": [
    "![](https://raw.githubusercontent.com/datainpoint/asgmt-3-data-viz-with-modern-ds-ntu-spring-2022/main/nbadb-erd.png)"
   ]
  },
  {
   "cell_type": "markdown",
   "metadata": {},
   "source": [
    "## 01. Write a SQL statement that is able to retrieve the table list given database `nba.db`.\n",
    "\n",
    "- Expected inputs：a SQL statement.\n",
    "- Expected outputs：a (3, 2) result.\n",
    "\n",
    "Hint: querying metadata table `sqlite_master`.\n",
    "\n",
    "```\n",
    "    type              name\n",
    "0  table  career_summaries\n",
    "1  table           players\n",
    "2  table             teams\n",
    "```"
   ]
  },
  {
   "cell_type": "code",
   "execution_count": null,
   "metadata": {},
   "outputs": [],
   "source": [
    "retrieve_table_list_from_nbadb =\\\n",
    "\"\"\"\n",
    "-- BEGIN SOLUTION\n",
    "\n",
    "-- END SOLUTION\n",
    "\"\"\""
   ]
  },
  {
   "cell_type": "markdown",
   "metadata": {},
   "source": [
    "## 02. Write a SQL statement that is able to retrieve the table information given database `nba.db`.\n",
    "\n",
    "- Expected inputs：a SQL statement.\n",
    "- Expected outputs：a (3, 3) result.\n",
    "\n",
    "Hint: number of columns can be queried through `pragma_table_info()`.\n",
    "\n",
    "```\n",
    "               name  number_of_rows  number_of_columns\n",
    "0  career_summaries             502                 31\n",
    "1           players             502                 18\n",
    "2             teams              30                 12\n",
    "```"
   ]
  },
  {
   "cell_type": "code",
   "execution_count": null,
   "metadata": {},
   "outputs": [],
   "source": [
    "retrieve_table_info_from_nbadb =\\\n",
    "\"\"\"\n",
    "-- BEGIN SOLUTION\n",
    "\n",
    "-- END SOLUTION\n",
    "\"\"\""
   ]
  },
  {
   "cell_type": "markdown",
   "metadata": {},
   "source": [
    "## 03. Write a SQL statement that is able to count the number of players from each country in `players`.\n",
    "\n",
    "- Expected inputs：a SQL statement.\n",
    "- Expected outputs：a (42, 2) result.\n",
    "\n",
    "```\n",
    "                   country  number_of_players\n",
    "0                      USA                384\n",
    "1                   Canada                 20\n",
    "2                   France                 10\n",
    "3                  Germany                  8\n",
    "4                Australia                  7\n",
    "5                   Serbia                  5\n",
    "6                    Spain                  5\n",
    "7                  Nigeria                  4\n",
    "8                   Turkey                  4\n",
    "9                  Bahamas                  3\n",
    "10                 Croatia                  3\n",
    "11                   Japan                  3\n",
    "12               Lithuania                  3\n",
    "13                Slovenia                  3\n",
    "14               Argentina                  2\n",
    "15                  Brazil                  2\n",
    "16                Cameroon                  2\n",
    "17          Czech Republic                  2\n",
    "18                     DRC                  2\n",
    "19      Dominican Republic                  2\n",
    "20                 Georgia                  2\n",
    "21                  Greece                  2\n",
    "22                  Latvia                  2\n",
    "23              Montenegro                  2\n",
    "24                 Ukraine                  2\n",
    "25          United Kingdom                  2\n",
    "26                  Angola                  1\n",
    "27                 Austria                  1\n",
    "28  Bosnia and Herzegovina                  1\n",
    "29                 Denmark                  1\n",
    "30                 Finland                  1\n",
    "31                  Israel                  1\n",
    "32                   Italy                  1\n",
    "33                 Jamaica                  1\n",
    "34             New Zealand                  1\n",
    "35                Portugal                  1\n",
    "36   Republic of the Congo                  1\n",
    "37             Saint Lucia                  1\n",
    "38                 Senegal                  1\n",
    "39             South Sudan                  1\n",
    "40                   Sudan                  1\n",
    "41             Switzerland                  1\n",
    "```"
   ]
  },
  {
   "cell_type": "code",
   "execution_count": null,
   "metadata": {},
   "outputs": [],
   "source": [
    "count_players_from_each_country =\\\n",
    "\"\"\"\n",
    "-- BEGIN SOLUTION\n",
    "\n",
    "-- END SOLUTION\n",
    "\"\"\""
   ]
  },
  {
   "cell_type": "markdown",
   "metadata": {},
   "source": [
    "## 04. Write a SQL statement that is able to count the number of players from USA or not in `players`.\n",
    "\n",
    "- Expected inputs：a SQL statement.\n",
    "- Expected outputs：a (2, 2) result.\n",
    "\n",
    "```\n",
    "  from_usa_or_not  number_of_players\n",
    "0        From USA                384\n",
    "1    Not from USA                118\n",
    "```"
   ]
  },
  {
   "cell_type": "code",
   "execution_count": null,
   "metadata": {},
   "outputs": [],
   "source": [
    "count_players_from_usa_or_not =\\\n",
    "\"\"\"\n",
    "-- BEGIN SOLUTION\n",
    "\n",
    "-- END SOLUTION\n",
    "\"\"\""
   ]
  },
  {
   "cell_type": "markdown",
   "metadata": {},
   "source": [
    "## 05. Write a SQL statement that is able to count the number of players for each position in `players`.\n",
    "\n",
    "- Expected inputs：a SQL statement.\n",
    "- Expected outputs：a (7, 2) result.\n",
    "\n",
    "```\n",
    "   pos  number_of_players\n",
    "0    G                195\n",
    "1    F                140\n",
    "2  G-F                 47\n",
    "3  F-C                 37\n",
    "4    C                 37\n",
    "5  C-F                 26\n",
    "6  F-G                 20\n",
    "```"
   ]
  },
  {
   "cell_type": "code",
   "execution_count": null,
   "metadata": {},
   "outputs": [],
   "source": [
    "count_players_for_each_position =\\\n",
    "\"\"\"\n",
    "-- BEGIN SOLUTION\n",
    "\n",
    "-- END SOLUTION\n",
    "\"\"\""
   ]
  },
  {
   "cell_type": "markdown",
   "metadata": {},
   "source": [
    "## 06. Write a SQL statement that is able to re-categorize the number of players for each position according the first letter of `pos` in `players`.\n",
    "\n",
    "- Expected inputs：a SQL statement.\n",
    "- Expected outputs：a (3, 2) result.\n",
    "\n",
    "```\n",
    "  new_pos  number_of_players\n",
    "0       G                242\n",
    "1       F                197\n",
    "2       C                 63\n",
    "```"
   ]
  },
  {
   "cell_type": "code",
   "execution_count": null,
   "metadata": {},
   "outputs": [],
   "source": [
    "count_players_for_each_new_position =\\\n",
    "\"\"\"\n",
    "-- BEGIN SOLUTION\n",
    "\n",
    "-- END SOLUTION\n",
    "\"\"\""
   ]
  },
  {
   "cell_type": "markdown",
   "metadata": {},
   "source": [
    "## 07. Write a SQL statement that is able to calculate the proportion for each position in `players`.\n",
    "\n",
    "- Expected inputs：a SQL statement.\n",
    "- Expected outputs：a (7, 2) result.\n",
    "\n",
    "```\n",
    "   pos proportion\n",
    "0    C      7.37%\n",
    "1  C-F      5.18%\n",
    "2    F     27.89%\n",
    "3  F-C      7.37%\n",
    "4  F-G      3.98%\n",
    "5    G     38.84%\n",
    "6  G-F      9.36%\n",
    "```"
   ]
  },
  {
   "cell_type": "code",
   "execution_count": null,
   "metadata": {},
   "outputs": [],
   "source": [
    "calculate_proportion_for_each_position =\\\n",
    "\"\"\"\n",
    "-- BEGIN SOLUTION\n",
    "\n",
    "-- END SOLUTION\n",
    "\"\"\""
   ]
  },
  {
   "cell_type": "markdown",
   "metadata": {},
   "source": [
    "## 08. Write a SQL statement that is able to find the roster of Phoenix Suns in `teams` and `players`.\n",
    "\n",
    "- Expected inputs：a SQL statement.\n",
    "- Expected outputs：a (17, 4) result.\n",
    "\n",
    "```\n",
    "        teamName  pos firstName   lastName\n",
    "0   Phoenix Suns    C   Bismack    Biyombo\n",
    "1   Phoenix Suns    C   Deandre      Ayton\n",
    "2   Phoenix Suns  C-F    JaVale      McGee\n",
    "3   Phoenix Suns    F       Jae    Crowder\n",
    "4   Phoenix Suns    F    Torrey      Craig\n",
    "5   Phoenix Suns    F     Mikal    Bridges\n",
    "6   Phoenix Suns    F   Cameron    Johnson\n",
    "7   Phoenix Suns    F       Ish  Wainright\n",
    "8   Phoenix Suns  F-C     Dario      Saric\n",
    "9   Phoenix Suns  F-C     Frank   Kaminsky\n",
    "10  Phoenix Suns    G     Chris       Paul\n",
    "11  Phoenix Suns    G    Elfrid     Payton\n",
    "12  Phoenix Suns    G     Devin     Booker\n",
    "13  Phoenix Suns    G   Cameron      Payne\n",
    "14  Phoenix Suns    G     Aaron    Holiday\n",
    "15  Phoenix Suns    G    Landry     Shamet\n",
    "16  Phoenix Suns    G   Gabriel   Lundberg\n",
    "```"
   ]
  },
  {
   "cell_type": "code",
   "execution_count": null,
   "metadata": {},
   "outputs": [],
   "source": [
    "find_roster_of_phx_suns =\\\n",
    "\"\"\"\n",
    "-- BEGIN SOLUTION\n",
    "\n",
    "-- END SOLUTION\n",
    "\"\"\""
   ]
  },
  {
   "cell_type": "markdown",
   "metadata": {},
   "source": [
    "## 09. Write a SQL statement that is able to find the top 10 scorers with the most points in `players` and `career_summaries`.\n",
    "\n",
    "- Expected inputs：a SQL statement.\n",
    "- Expected outputs：a (10, 3) result.\n",
    "\n",
    "```\n",
    "  firstName   lastName  points\n",
    "0    LeBron      James   36985\n",
    "1   Carmelo    Anthony   28223\n",
    "2     Kevin     Durant   25213\n",
    "3     James     Harden   23281\n",
    "4   Russell  Westbrook   23140\n",
    "5     Chris       Paul   20844\n",
    "6  LaMarcus   Aldridge   20558\n",
    "7   Stephen      Curry   20064\n",
    "8     DeMar    DeRozan   19610\n",
    "9    Dwight     Howard   19377\n",
    "```"
   ]
  },
  {
   "cell_type": "code",
   "execution_count": null,
   "metadata": {},
   "outputs": [],
   "source": [
    "find_the_top_ten_scorers =\\\n",
    "\"\"\"\n",
    "-- BEGIN SOLUTION\n",
    "\n",
    "-- END SOLUTION\n",
    "\"\"\""
   ]
  },
  {
   "cell_type": "markdown",
   "metadata": {},
   "source": [
    "## 10. Write a SQL statement that is able to find the players with the most `ppg`, `rpg`, `apg`, `bpg`, and `spg` in `career_summaries` and `players`.\n",
    "\n",
    "- Expected inputs：a SQL statement.\n",
    "- Expected outputs：a (5, 4) result.\n",
    "\n",
    "```\n",
    "  firstName  lastName  key  value\n",
    "0     Andre  Drummond  rpg   13.3\n",
    "1   Anthony     Davis  bpg    2.3\n",
    "2     Chris      Paul  apg    9.5\n",
    "3     Chris      Paul  spg    2.1\n",
    "4    LeBron     James  ppg   27.1\n",
    "```"
   ]
  },
  {
   "cell_type": "code",
   "execution_count": null,
   "metadata": {},
   "outputs": [],
   "source": [
    "find_the_top_players =\\\n",
    "\"\"\"\n",
    "-- BEGIN SOLUTION\n",
    "\n",
    "-- END SOLUTION\n",
    "\"\"\""
   ]
  },
  {
   "cell_type": "markdown",
   "metadata": {
    "deletable": false,
    "editable": false
   },
   "source": [
    "## End of assignment, ignore the following cells."
   ]
  },
  {
   "cell_type": "code",
   "execution_count": null,
   "metadata": {
    "deletable": false,
    "editable": false
   },
   "outputs": [],
   "source": [
    "!wget -N https://raw.githubusercontent.com/datainpoint/asgmt-3-data-viz-with-modern-ds-ntu-spring-2022/main/nba.db"
   ]
  },
  {
   "cell_type": "code",
   "execution_count": null,
   "metadata": {
    "deletable": false,
    "editable": false
   },
   "outputs": [],
   "source": [
    "import numpy as np\n",
    "import pandas as pd\n",
    "import unittest\n",
    "import sqlite3\n",
    "\n",
    "def function_retrieve_table_list_from_nbadb(con):\n",
    "    return pd.read_sql(retrieve_table_list_from_nbadb, con)\n",
    "def function_retrieve_table_info_from_nbadb(con):\n",
    "    return pd.read_sql(retrieve_table_info_from_nbadb, con)\n",
    "def function_count_players_from_each_country(con):\n",
    "    return pd.read_sql(count_players_from_each_country, con)\n",
    "def function_count_players_from_usa_or_not(con):\n",
    "    return pd.read_sql(count_players_from_usa_or_not, con)\n",
    "def function_count_players_for_each_position(con):\n",
    "    return pd.read_sql(count_players_for_each_position, con)\n",
    "def function_count_players_for_each_new_position(con):\n",
    "    return pd.read_sql(count_players_for_each_new_position, con)\n",
    "def function_calculate_proportion_for_each_position(con):\n",
    "    return pd.read_sql(calculate_proportion_for_each_position, con)\n",
    "def function_find_roster_of_phx_suns(con):\n",
    "    return pd.read_sql(find_roster_of_phx_suns, con)\n",
    "def function_find_the_top_ten_scorers(con):\n",
    "    return pd.read_sql(find_the_top_ten_scorers, con)\n",
    "def function_find_the_top_players(con):\n",
    "    return pd.read_sql(find_the_top_players, con)"
   ]
  },
  {
   "cell_type": "code",
   "execution_count": null,
   "metadata": {
    "deletable": false,
    "editable": false
   },
   "outputs": [],
   "source": [
    "connection = sqlite3.connect('nba.db')\n",
    "class TestAssignmentThree(unittest.TestCase):\n",
    "    def test_01_retrieve_table_list_from_nbadb(self):\n",
    "        table_list_from_nbadb = function_retrieve_table_list_from_nbadb(connection)\n",
    "        self.assertEqual(table_list_from_nbadb.shape, (3, 2))\n",
    "        types = table_list_from_nbadb.iloc[:, 0].values\n",
    "        names = table_list_from_nbadb.iloc[:, 1].values\n",
    "        self.assertIn(\"table\", types)\n",
    "        self.assertIn(\"career_summaries\", names)\n",
    "        self.assertIn(\"players\", names)\n",
    "        self.assertIn(\"teams\", names)\n",
    "    def test_02_retrieve_table_info_from_nbadb(self):\n",
    "        table_info_from_nbadb = function_retrieve_table_info_from_nbadb(connection)\n",
    "        self.assertEqual(table_info_from_nbadb.shape, (3, 3))\n",
    "        names = table_info_from_nbadb.iloc[:, 0].values\n",
    "        self.assertIn(\"career_summaries\", names)\n",
    "        self.assertIn(\"players\", names)\n",
    "        self.assertIn(\"teams\", names)\n",
    "        number_of_rows = table_info_from_nbadb.iloc[:, 1].values\n",
    "        self.assertIn(502, number_of_rows)\n",
    "        self.assertIn(30, number_of_rows)\n",
    "        number_of_columns = table_info_from_nbadb.iloc[:, 2].values\n",
    "        self.assertIn(31, number_of_columns)\n",
    "        self.assertIn(18, number_of_columns)\n",
    "        self.assertIn(12, number_of_columns)\n",
    "    def test_03_count_players_from_each_country(self):\n",
    "        players_from_each_country = function_count_players_from_each_country(connection)\n",
    "        self.assertEqual(players_from_each_country.shape, (42, 2))\n",
    "        countries = players_from_each_country.iloc[:, 0].values\n",
    "        self.assertIn(\"USA\", countries)\n",
    "        self.assertIn(\"Canada\", countries)\n",
    "        self.assertIn(\"France\", countries)\n",
    "        self.assertIn(\"Ukraine\", countries)\n",
    "        self.assertIn(\"Portugal\", countries)\n",
    "        number_of_players = players_from_each_country.iloc[:, 1].values\n",
    "        self.assertEqual(number_of_players.sum(), 502)\n",
    "    def test_04_count_players_from_usa_or_not(self):\n",
    "        players_from_usa_or_not = function_count_players_from_usa_or_not(connection)\n",
    "        self.assertEqual(players_from_usa_or_not.shape, (2, 2))\n",
    "        from_usa_or_not = players_from_usa_or_not.iloc[:, 0].values\n",
    "        self.assertEqual(np.unique(from_usa_or_not).size, 2)\n",
    "        number_of_players = players_from_usa_or_not.iloc[:, 1].values\n",
    "        self.assertEqual(number_of_players.sum(), 502)\n",
    "    def test_05_count_players_for_each_position(self):\n",
    "        players_for_each_position = function_count_players_for_each_position(connection)\n",
    "        self.assertEqual(players_for_each_position.shape, (7, 2))\n",
    "        positions = players_for_each_position.iloc[:, 0].values\n",
    "        self.assertIn(\"G\", positions)\n",
    "        self.assertIn(\"F\", positions)\n",
    "        self.assertIn(\"G-F\", positions)\n",
    "        self.assertIn(\"F-C\", positions)\n",
    "        self.assertIn(\"C\", positions)\n",
    "        self.assertIn(\"C-F\", positions)\n",
    "        self.assertIn(\"F-G\", positions)\n",
    "        number_of_players = players_for_each_position.iloc[:, 1].values\n",
    "        self.assertEqual(number_of_players.sum(), 502)\n",
    "    def test_06_count_players_for_each_new_position(self):\n",
    "        players_for_each_new_position = function_count_players_for_each_new_position(connection)\n",
    "        self.assertEqual(players_for_each_new_position.shape, (3, 2))\n",
    "        positions = players_for_each_new_position.iloc[:, 0].values\n",
    "        self.assertIn(\"G\", positions)\n",
    "        self.assertIn(\"F\", positions)\n",
    "        self.assertIn(\"C\", positions)\n",
    "        number_of_players = players_for_each_new_position.iloc[:, 1].values\n",
    "        self.assertEqual(number_of_players.sum(), 502)\n",
    "    def test_07_calculate_proportion_for_each_position(self):\n",
    "        proportion_for_each_position = function_calculate_proportion_for_each_position(connection)\n",
    "        self.assertEqual(proportion_for_each_position.shape, (7, 2))\n",
    "        positions = proportion_for_each_position.iloc[:, 0].values\n",
    "        self.assertIn(\"G\", positions)\n",
    "        self.assertIn(\"F\", positions)\n",
    "        self.assertIn(\"G-F\", positions)\n",
    "        self.assertIn(\"F-C\", positions)\n",
    "        self.assertIn(\"C\", positions)\n",
    "        self.assertIn(\"C-F\", positions)\n",
    "        self.assertIn(\"F-G\", positions)\n",
    "    def test_08_find_roster_of_phx_suns(self):\n",
    "        roster_of_phx_suns = function_find_roster_of_phx_suns(connection)\n",
    "        self.assertEqual(roster_of_phx_suns.shape, (17, 4))\n",
    "        team_names = roster_of_phx_suns.iloc[:, 0].values\n",
    "        self.assertIn(\"Phoenix Suns\", team_names)\n",
    "        positions = roster_of_phx_suns.iloc[:, 1].values\n",
    "        self.assertIn(\"C\", positions)\n",
    "        self.assertIn(\"C-F\", positions)\n",
    "        self.assertIn(\"F\", positions)\n",
    "        self.assertIn(\"F-C\", positions)\n",
    "        self.assertIn(\"G\", positions)\n",
    "        last_names = roster_of_phx_suns.iloc[:, 3].values\n",
    "        self.assertIn(\"Ayton\", last_names)\n",
    "        self.assertIn(\"Crowder\", last_names)\n",
    "        self.assertIn(\"Bridges\", last_names)\n",
    "        self.assertIn(\"Paul\", last_names)\n",
    "        self.assertIn(\"Booker\", last_names)\n",
    "    def test_09_find_the_top_ten_scorers(self):\n",
    "        the_top_ten_scorers = function_find_the_top_ten_scorers(connection)\n",
    "        self.assertEqual(the_top_ten_scorers.shape, (10, 3))\n",
    "        first_names = the_top_ten_scorers.iloc[:, 0].values\n",
    "        self.assertIn(\"LeBron\", first_names)\n",
    "        self.assertIn(\"Carmelo\", first_names)\n",
    "        self.assertIn(\"Kevin\", first_names)\n",
    "        last_names = the_top_ten_scorers.iloc[:, 1].values\n",
    "        self.assertIn(\"James\", last_names)\n",
    "        self.assertIn(\"Anthony\", last_names)\n",
    "        self.assertIn(\"Durant\", last_names)\n",
    "    def test_10_find_the_top_players(self):\n",
    "        the_top_players = function_find_the_top_players(connection)\n",
    "        self.assertEqual(the_top_players.shape, (5, 4))\n",
    "        first_names = the_top_players.iloc[:, 0].values\n",
    "        self.assertIn(\"Andre\", first_names)\n",
    "        self.assertIn(\"Anthony\", first_names)\n",
    "        self.assertIn(\"Chris\", first_names)\n",
    "        self.assertIn(\"LeBron\", first_names)\n",
    "        last_names = the_top_players.iloc[:, 1].values\n",
    "        self.assertIn(\"Drummond\", last_names)\n",
    "        self.assertIn(\"Davis\", last_names)\n",
    "        self.assertIn(\"Paul\", last_names)\n",
    "        self.assertIn(\"James\", last_names)\n",
    "        keys = the_top_players.iloc[:, 2].values\n",
    "        self.assertIn(\"rpg\", keys)\n",
    "        self.assertIn(\"bpg\", keys)\n",
    "        self.assertIn(\"apg\", keys)\n",
    "        self.assertIn(\"spg\", keys)\n",
    "        self.assertIn(\"ppg\", keys)\n",
    "        \n",
    "suite = unittest.TestLoader().loadTestsFromTestCase(TestAssignmentThree)\n",
    "runner = unittest.TextTestRunner(verbosity=2)\n",
    "test_results = runner.run(suite)\n",
    "number_of_failures = len(test_results.failures)\n",
    "number_of_errors = len(test_results.errors)\n",
    "number_of_test_runs = test_results.testsRun\n",
    "number_of_successes = number_of_test_runs - (number_of_failures + number_of_errors)\n",
    "print(\"You've got {} successes among {} questions.\".format(number_of_successes, number_of_test_runs))"
   ]
  }
 ],
 "metadata": {
  "celltoolbar": "Edit Metadata",
  "kernelspec": {
   "display_name": "Python 3 (ipykernel)",
   "language": "python",
   "name": "python3"
  },
  "language_info": {
   "codemirror_mode": {
    "name": "ipython",
    "version": 3
   },
   "file_extension": ".py",
   "mimetype": "text/x-python",
   "name": "python",
   "nbconvert_exporter": "python",
   "pygments_lexer": "ipython3",
   "version": "3.9.5"
  }
 },
 "nbformat": 4,
 "nbformat_minor": 4
}
